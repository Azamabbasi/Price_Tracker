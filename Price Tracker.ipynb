{
 "cells": [
  {
   "cell_type": "markdown",
   "id": "fa267077-358f-4a03-826e-04590a0b875c",
   "metadata": {},
   "source": [
    "# Building a python scrapper that tracks amazon prices "
   ]
  },
  {
   "cell_type": "code",
   "execution_count": 53,
   "id": "e694ab68-46f1-4616-97f8-3b8fd2934507",
   "metadata": {},
   "outputs": [
    {
     "name": "stdout",
     "output_type": "stream",
     "text": [
      "Requirement already satisfied: requests_html in /opt/anaconda3/lib/python3.12/site-packages (0.10.0)\n",
      "Requirement already satisfied: requests in /opt/anaconda3/lib/python3.12/site-packages (from requests_html) (2.32.3)\n",
      "Requirement already satisfied: pyquery in /opt/anaconda3/lib/python3.12/site-packages (from requests_html) (2.0.1)\n",
      "Requirement already satisfied: fake-useragent in /opt/anaconda3/lib/python3.12/site-packages (from requests_html) (2.2.0)\n",
      "Requirement already satisfied: parse in /opt/anaconda3/lib/python3.12/site-packages (from requests_html) (1.20.2)\n",
      "Requirement already satisfied: bs4 in /opt/anaconda3/lib/python3.12/site-packages (from requests_html) (0.0.2)\n",
      "Requirement already satisfied: w3lib in /opt/anaconda3/lib/python3.12/site-packages (from requests_html) (2.1.2)\n",
      "Requirement already satisfied: pyppeteer>=0.0.14 in /opt/anaconda3/lib/python3.12/site-packages (from requests_html) (2.0.0)\n",
      "Requirement already satisfied: appdirs<2.0.0,>=1.4.3 in /opt/anaconda3/lib/python3.12/site-packages (from pyppeteer>=0.0.14->requests_html) (1.4.4)\n",
      "Requirement already satisfied: certifi>=2023 in /opt/anaconda3/lib/python3.12/site-packages (from pyppeteer>=0.0.14->requests_html) (2025.6.15)\n",
      "Requirement already satisfied: importlib-metadata>=1.4 in /opt/anaconda3/lib/python3.12/site-packages (from pyppeteer>=0.0.14->requests_html) (7.0.1)\n",
      "Requirement already satisfied: pyee<12.0.0,>=11.0.0 in /opt/anaconda3/lib/python3.12/site-packages (from pyppeteer>=0.0.14->requests_html) (11.1.1)\n",
      "Requirement already satisfied: tqdm<5.0.0,>=4.42.1 in /opt/anaconda3/lib/python3.12/site-packages (from pyppeteer>=0.0.14->requests_html) (4.66.5)\n",
      "Requirement already satisfied: urllib3<2.0.0,>=1.25.8 in /opt/anaconda3/lib/python3.12/site-packages (from pyppeteer>=0.0.14->requests_html) (1.26.20)\n",
      "Requirement already satisfied: websockets<11.0,>=10.0 in /opt/anaconda3/lib/python3.12/site-packages (from pyppeteer>=0.0.14->requests_html) (10.4)\n",
      "Requirement already satisfied: beautifulsoup4 in /opt/anaconda3/lib/python3.12/site-packages (from bs4->requests_html) (4.12.3)\n",
      "Requirement already satisfied: lxml>=2.1 in /opt/anaconda3/lib/python3.12/site-packages (from pyquery->requests_html) (5.2.1)\n",
      "Requirement already satisfied: cssselect>=1.2.0 in /opt/anaconda3/lib/python3.12/site-packages (from pyquery->requests_html) (1.2.0)\n",
      "Requirement already satisfied: charset-normalizer<4,>=2 in /opt/anaconda3/lib/python3.12/site-packages (from requests->requests_html) (3.3.2)\n",
      "Requirement already satisfied: idna<4,>=2.5 in /opt/anaconda3/lib/python3.12/site-packages (from requests->requests_html) (3.7)\n",
      "Requirement already satisfied: zipp>=0.5 in /opt/anaconda3/lib/python3.12/site-packages (from importlib-metadata>=1.4->pyppeteer>=0.0.14->requests_html) (3.17.0)\n",
      "Requirement already satisfied: typing-extensions in /opt/anaconda3/lib/python3.12/site-packages (from pyee<12.0.0,>=11.0.0->pyppeteer>=0.0.14->requests_html) (4.14.1)\n",
      "Requirement already satisfied: soupsieve>1.2 in /opt/anaconda3/lib/python3.12/site-packages (from beautifulsoup4->bs4->requests_html) (2.5)\n",
      "Requirement already satisfied: selenium in /opt/anaconda3/lib/python3.12/site-packages (4.34.0)\n",
      "Collecting urllib3~=2.4.0 (from urllib3[socks]~=2.4.0->selenium)\n",
      "  Using cached urllib3-2.4.0-py3-none-any.whl.metadata (6.5 kB)\n",
      "Requirement already satisfied: trio~=0.30.0 in /opt/anaconda3/lib/python3.12/site-packages (from selenium) (0.30.0)\n",
      "Requirement already satisfied: trio-websocket~=0.12.2 in /opt/anaconda3/lib/python3.12/site-packages (from selenium) (0.12.2)\n",
      "Requirement already satisfied: certifi>=2025.4.26 in /opt/anaconda3/lib/python3.12/site-packages (from selenium) (2025.6.15)\n",
      "Requirement already satisfied: typing_extensions~=4.14.0 in /opt/anaconda3/lib/python3.12/site-packages (from selenium) (4.14.1)\n",
      "Requirement already satisfied: websocket-client~=1.8.0 in /opt/anaconda3/lib/python3.12/site-packages (from selenium) (1.8.0)\n",
      "Requirement already satisfied: attrs>=23.2.0 in /opt/anaconda3/lib/python3.12/site-packages (from trio~=0.30.0->selenium) (25.3.0)\n",
      "Requirement already satisfied: sortedcontainers in /opt/anaconda3/lib/python3.12/site-packages (from trio~=0.30.0->selenium) (2.4.0)\n",
      "Requirement already satisfied: idna in /opt/anaconda3/lib/python3.12/site-packages (from trio~=0.30.0->selenium) (3.7)\n",
      "Requirement already satisfied: outcome in /opt/anaconda3/lib/python3.12/site-packages (from trio~=0.30.0->selenium) (1.3.0.post0)\n",
      "Requirement already satisfied: sniffio>=1.3.0 in /opt/anaconda3/lib/python3.12/site-packages (from trio~=0.30.0->selenium) (1.3.0)\n",
      "Requirement already satisfied: wsproto>=0.14 in /opt/anaconda3/lib/python3.12/site-packages (from trio-websocket~=0.12.2->selenium) (1.2.0)\n",
      "Requirement already satisfied: pysocks!=1.5.7,<2.0,>=1.5.6 in /opt/anaconda3/lib/python3.12/site-packages (from urllib3[socks]~=2.4.0->selenium) (1.7.1)\n",
      "Requirement already satisfied: h11<1,>=0.9.0 in /opt/anaconda3/lib/python3.12/site-packages (from wsproto>=0.14->trio-websocket~=0.12.2->selenium) (0.14.0)\n",
      "Using cached urllib3-2.4.0-py3-none-any.whl (128 kB)\n",
      "Installing collected packages: urllib3\n",
      "  Attempting uninstall: urllib3\n",
      "    Found existing installation: urllib3 1.26.20\n",
      "    Uninstalling urllib3-1.26.20:\n",
      "      Successfully uninstalled urllib3-1.26.20\n",
      "\u001b[31mERROR: pip's dependency resolver does not currently take into account all the packages that are installed. This behaviour is the source of the following dependency conflicts.\n",
      "aext-assistant-server 4.1.0 requires anaconda-cloud-auth>=0.7.1, which is not installed.\n",
      "aext-share-notebook-server 4.1.0 requires anaconda-cloud-auth>=0.7.1, which is not installed.\n",
      "pyppeteer 2.0.0 requires urllib3<2.0.0,>=1.25.8, but you have urllib3 2.4.0 which is incompatible.\u001b[0m\u001b[31m\n",
      "\u001b[0mSuccessfully installed urllib3-2.4.0\n"
     ]
    }
   ],
   "source": [
    "!pip install requests_html\n",
    "!pip install selenium"
   ]
  },
  {
   "cell_type": "code",
   "execution_count": 69,
   "id": "cb52e828-a862-4599-b29b-2951ffd60ebf",
   "metadata": {},
   "outputs": [],
   "source": [
    "import requests \n",
    "from bs4 import BeautifulSoup\n",
    "import smtplib\n",
    "import time\n",
    "from selenium import webdriver"
   ]
  },
  {
   "cell_type": "code",
   "execution_count": 71,
   "id": "a21bf06b-62d2-4eda-ad7a-968db142ca14",
   "metadata": {},
   "outputs": [],
   "source": [
    "options = webdriver.ChromeOptions()\n",
    "options.add_argument('--headless')  # Run in background without showing browser\n",
    "options.add_argument('--no-sandbox')\n",
    "options.add_argument('--disable-dev-shm-usage')\n",
    "\n",
    "driver = webdriver.Chrome(options=options)"
   ]
  },
  {
   "cell_type": "code",
   "execution_count": 73,
   "id": "c859e334-bdd0-453f-9d72-d3c1e9034ff7",
   "metadata": {},
   "outputs": [],
   "source": [
    "url = 'https://www.amazon.com/REDMAGIC-Astra-Gaming-Tablet-Starfrost/dp/B0F9L6KP9Y'\n",
    "driver.get(url)"
   ]
  },
  {
   "cell_type": "code",
   "execution_count": 75,
   "id": "92589cef-2a95-4b32-8fd7-7d41495ca847",
   "metadata": {},
   "outputs": [],
   "source": [
    "soup = BeautifulSoup(driver.page_source, 'html.parser')"
   ]
  },
  {
   "cell_type": "code",
   "execution_count": 77,
   "id": "900c6425-b898-43fb-af03-38be67fc589c",
   "metadata": {},
   "outputs": [
    {
     "name": "stdout",
     "output_type": "stream",
     "text": [
      "REDMAGIC Astra Gaming Tablet 16G+512G Starfrost (NEEA)\n"
     ]
    }
   ],
   "source": [
    "title = soup.find(id='productTitle').get_text().strip()\n",
    "print(title)"
   ]
  },
  {
   "cell_type": "code",
   "execution_count": 190,
   "id": "b29092fe-4a65-4df9-a694-c3a56e86f315",
   "metadata": {},
   "outputs": [
    {
     "name": "stdout",
     "output_type": "stream",
     "text": [
      "799\n"
     ]
    }
   ],
   "source": [
    "price = soup.select_one('span.a-price-whole')\n",
    "\n",
    "if price_whole:\n",
    "    # Only get the direct text content, exclude nested span (decimal)\n",
    "    whole_number = price_whole.contents[0].strip().replace(',', '')\n",
    "    print(f\"{whole_number}\")\n",
    "else:\n",
    "    print(\"Whole number price not found.\")"
   ]
  },
  {
   "cell_type": "code",
   "execution_count": 263,
   "id": "2888c4d5-2c62-4680-a2ba-d324776a6fd7",
   "metadata": {},
   "outputs": [],
   "source": [
    "def check_price():\n",
    "  page = driver.get(url)\n",
    "  soup = BeautifulSoup(driver.page_source, 'html.parser')\n",
    "  title = soup.find(id='productTitle').get_text().strip()\n",
    "\n",
    "  price_whole = soup.select_one('span.a-price-whole')\n",
    "  if price_whole:\n",
    "      whole_number = price_whole.contents[0].strip().replace(',', '')\n",
    "  price = print(f\"{whole_number}\")\n",
    "    \n",
    "  send_email()"
   ]
  },
  {
   "cell_type": "code",
   "execution_count": 265,
   "id": "bd26b41c-4980-4c12-8b75-414e144a0b75",
   "metadata": {},
   "outputs": [],
   "source": [
    "def send_email():\n",
    "  server = smtplib.SMTP('smtp.gmail.com', 587)\n",
    "  server.ehlo()\n",
    "  server.starttls()\n",
    "  server.ehlo()\n",
    "\n",
    "  server.login('#Enter your username here', '#Enter your password here')\n",
    "\n",
    "  subject = 'Price Dropped For Podcast Microphone!!!'\n",
    "  body = \"check amazon link - https://www.amazon.co.uk/dp/B083NR8Z4V/ref=sspa_dk_detail_0?psc=1&pd_rd_i=B083NR8Z4V&pd_rd_w=WpBtd&pf_rd_p=1055d8b2-c10c-4d7d-b50d-96300553e15d&pd_rd_wg=aOmvR&pf_rd_r=AKXSVQQ3Q3ZFJ389VD6W&pd_rd_r=e9487063-0c01-4861-8ef1-28b9b7aedf6c&spLa=ZW5jcnlwdGVkUXVhbGlmaWVyPUExVUJESVk5U0lWMk5RJmVuY3J5cHRlZElkPUExMDQyOTMwODdSUkJLUTgyQURMJmVuY3J5cHRlZEFkSWQ9QTA0NDgwMDFGU1RNTkxWQkswRFomd2lkZ2V0TmFtZT1zcF9kZXRhaWwmYWN0aW9uPWNsaWNrUmVkaXJlY3QmZG9Ob3RMb2dDbGljaz10cnVl\"\n",
    "\n",
    "  msg = f\"subject: {subject}\\n\\n{body}\"\n",
    "\n",
    "  server.sendmail(\n",
    "      '#email address from',\n",
    "      \"#email address too\",\n",
    "      msg\n",
    "  )\n",
    "\n",
    "  print(\"Hey, Email has been sent!!\")\n",
    "\n",
    "  server.quit()"
   ]
  },
  {
   "cell_type": "code",
   "execution_count": 269,
   "id": "6f363834-7194-4db1-9a13-b1ab90b030ce",
   "metadata": {},
   "outputs": [
    {
     "ename": "InvalidSessionIdException",
     "evalue": "Message: invalid session id; For documentation on this error, please visit: https://www.selenium.dev/documentation/webdriver/troubleshooting/errors#invalidsessionidexception\nStacktrace:\n0   chromedriver                        0x000000010292dd14 cxxbridge1$str$ptr + 2735276\n1   chromedriver                        0x0000000102925f88 cxxbridge1$str$ptr + 2703136\n2   chromedriver                        0x0000000102476564 cxxbridge1$string$len + 90028\n3   chromedriver                        0x00000001024b10ac cxxbridge1$string$len + 330484\n4   chromedriver                        0x00000001024d9798 cxxbridge1$string$len + 496096\n5   chromedriver                        0x00000001024d8aa0 cxxbridge1$string$len + 492776\n6   chromedriver                        0x0000000102446ad0 chromedriver + 92880\n7   chromedriver                        0x00000001028f1598 cxxbridge1$str$ptr + 2487600\n8   chromedriver                        0x00000001028f4830 cxxbridge1$str$ptr + 2500552\n9   chromedriver                        0x00000001028d1c14 cxxbridge1$str$ptr + 2358188\n10  chromedriver                        0x00000001028f50b8 cxxbridge1$str$ptr + 2502736\n11  chromedriver                        0x00000001028c2dec cxxbridge1$str$ptr + 2297220\n12  chromedriver                        0x0000000102444da0 chromedriver + 85408\n13  dyld                                0x0000000194d5ab98 start + 6076\n",
     "output_type": "error",
     "traceback": [
      "\u001b[0;31m---------------------------------------------------------------------------\u001b[0m",
      "\u001b[0;31mInvalidSessionIdException\u001b[0m                 Traceback (most recent call last)",
      "Cell \u001b[0;32mIn[269], line 2\u001b[0m\n\u001b[1;32m      1\u001b[0m \u001b[38;5;28;01mwhile\u001b[39;00m(\u001b[38;5;28;01mTrue\u001b[39;00m):\n\u001b[0;32m----> 2\u001b[0m   check_price()\n\u001b[1;32m      3\u001b[0m   time\u001b[38;5;241m.\u001b[39msleep(\u001b[38;5;241m86400\u001b[39m)\n",
      "Cell \u001b[0;32mIn[263], line 2\u001b[0m, in \u001b[0;36mcheck_price\u001b[0;34m()\u001b[0m\n\u001b[1;32m      1\u001b[0m \u001b[38;5;28;01mdef\u001b[39;00m \u001b[38;5;21mcheck_price\u001b[39m():\n\u001b[0;32m----> 2\u001b[0m   page \u001b[38;5;241m=\u001b[39m driver\u001b[38;5;241m.\u001b[39mget(url)\n\u001b[1;32m      3\u001b[0m   soup \u001b[38;5;241m=\u001b[39m BeautifulSoup(driver\u001b[38;5;241m.\u001b[39mpage_source, \u001b[38;5;124m'\u001b[39m\u001b[38;5;124mhtml.parser\u001b[39m\u001b[38;5;124m'\u001b[39m)\n\u001b[1;32m      4\u001b[0m   title \u001b[38;5;241m=\u001b[39m soup\u001b[38;5;241m.\u001b[39mfind(\u001b[38;5;28mid\u001b[39m\u001b[38;5;241m=\u001b[39m\u001b[38;5;124m'\u001b[39m\u001b[38;5;124mproductTitle\u001b[39m\u001b[38;5;124m'\u001b[39m)\u001b[38;5;241m.\u001b[39mget_text()\u001b[38;5;241m.\u001b[39mstrip()\n",
      "File \u001b[0;32m/opt/anaconda3/lib/python3.12/site-packages/selenium/webdriver/remote/webdriver.py:479\u001b[0m, in \u001b[0;36mWebDriver.get\u001b[0;34m(self, url)\u001b[0m\n\u001b[1;32m    461\u001b[0m \u001b[38;5;28;01mdef\u001b[39;00m \u001b[38;5;21mget\u001b[39m(\u001b[38;5;28mself\u001b[39m, url: \u001b[38;5;28mstr\u001b[39m) \u001b[38;5;241m-\u001b[39m\u001b[38;5;241m>\u001b[39m \u001b[38;5;28;01mNone\u001b[39;00m:\n\u001b[1;32m    462\u001b[0m \u001b[38;5;250m    \u001b[39m\u001b[38;5;124;03m\"\"\"Navigate the browser to the specified URL in the current window or\u001b[39;00m\n\u001b[1;32m    463\u001b[0m \u001b[38;5;124;03m    tab.\u001b[39;00m\n\u001b[1;32m    464\u001b[0m \n\u001b[0;32m   (...)\u001b[0m\n\u001b[1;32m    477\u001b[0m \u001b[38;5;124;03m    >>> driver.get(\"https://example.com\")\u001b[39;00m\n\u001b[1;32m    478\u001b[0m \u001b[38;5;124;03m    \"\"\"\u001b[39;00m\n\u001b[0;32m--> 479\u001b[0m     \u001b[38;5;28mself\u001b[39m\u001b[38;5;241m.\u001b[39mexecute(Command\u001b[38;5;241m.\u001b[39mGET, {\u001b[38;5;124m\"\u001b[39m\u001b[38;5;124murl\u001b[39m\u001b[38;5;124m\"\u001b[39m: url})\n",
      "File \u001b[0;32m/opt/anaconda3/lib/python3.12/site-packages/selenium/webdriver/remote/webdriver.py:454\u001b[0m, in \u001b[0;36mWebDriver.execute\u001b[0;34m(self, driver_command, params)\u001b[0m\n\u001b[1;32m    451\u001b[0m response \u001b[38;5;241m=\u001b[39m cast(RemoteConnection, \u001b[38;5;28mself\u001b[39m\u001b[38;5;241m.\u001b[39mcommand_executor)\u001b[38;5;241m.\u001b[39mexecute(driver_command, params)\n\u001b[1;32m    453\u001b[0m \u001b[38;5;28;01mif\u001b[39;00m response:\n\u001b[0;32m--> 454\u001b[0m     \u001b[38;5;28mself\u001b[39m\u001b[38;5;241m.\u001b[39merror_handler\u001b[38;5;241m.\u001b[39mcheck_response(response)\n\u001b[1;32m    455\u001b[0m     response[\u001b[38;5;124m\"\u001b[39m\u001b[38;5;124mvalue\u001b[39m\u001b[38;5;124m\"\u001b[39m] \u001b[38;5;241m=\u001b[39m \u001b[38;5;28mself\u001b[39m\u001b[38;5;241m.\u001b[39m_unwrap_value(response\u001b[38;5;241m.\u001b[39mget(\u001b[38;5;124m\"\u001b[39m\u001b[38;5;124mvalue\u001b[39m\u001b[38;5;124m\"\u001b[39m, \u001b[38;5;28;01mNone\u001b[39;00m))\n\u001b[1;32m    456\u001b[0m     \u001b[38;5;28;01mreturn\u001b[39;00m response\n",
      "File \u001b[0;32m/opt/anaconda3/lib/python3.12/site-packages/selenium/webdriver/remote/errorhandler.py:232\u001b[0m, in \u001b[0;36mErrorHandler.check_response\u001b[0;34m(self, response)\u001b[0m\n\u001b[1;32m    230\u001b[0m         alert_text \u001b[38;5;241m=\u001b[39m value[\u001b[38;5;124m\"\u001b[39m\u001b[38;5;124malert\u001b[39m\u001b[38;5;124m\"\u001b[39m]\u001b[38;5;241m.\u001b[39mget(\u001b[38;5;124m\"\u001b[39m\u001b[38;5;124mtext\u001b[39m\u001b[38;5;124m\"\u001b[39m)\n\u001b[1;32m    231\u001b[0m     \u001b[38;5;28;01mraise\u001b[39;00m exception_class(message, screen, stacktrace, alert_text)  \u001b[38;5;66;03m# type: ignore[call-arg]  # mypy is not smart enough here\u001b[39;00m\n\u001b[0;32m--> 232\u001b[0m \u001b[38;5;28;01mraise\u001b[39;00m exception_class(message, screen, stacktrace)\n",
      "\u001b[0;31mInvalidSessionIdException\u001b[0m: Message: invalid session id; For documentation on this error, please visit: https://www.selenium.dev/documentation/webdriver/troubleshooting/errors#invalidsessionidexception\nStacktrace:\n0   chromedriver                        0x000000010292dd14 cxxbridge1$str$ptr + 2735276\n1   chromedriver                        0x0000000102925f88 cxxbridge1$str$ptr + 2703136\n2   chromedriver                        0x0000000102476564 cxxbridge1$string$len + 90028\n3   chromedriver                        0x00000001024b10ac cxxbridge1$string$len + 330484\n4   chromedriver                        0x00000001024d9798 cxxbridge1$string$len + 496096\n5   chromedriver                        0x00000001024d8aa0 cxxbridge1$string$len + 492776\n6   chromedriver                        0x0000000102446ad0 chromedriver + 92880\n7   chromedriver                        0x00000001028f1598 cxxbridge1$str$ptr + 2487600\n8   chromedriver                        0x00000001028f4830 cxxbridge1$str$ptr + 2500552\n9   chromedriver                        0x00000001028d1c14 cxxbridge1$str$ptr + 2358188\n10  chromedriver                        0x00000001028f50b8 cxxbridge1$str$ptr + 2502736\n11  chromedriver                        0x00000001028c2dec cxxbridge1$str$ptr + 2297220\n12  chromedriver                        0x0000000102444da0 chromedriver + 85408\n13  dyld                                0x0000000194d5ab98 start + 6076\n"
     ]
    }
   ],
   "source": [
    "while(True):\n",
    "  check_price()\n",
    "  time.sleep(86400)"
   ]
  },
  {
   "cell_type": "code",
   "execution_count": null,
   "id": "d5c7b3e2-6176-4d87-a5af-fdbae8de33b4",
   "metadata": {},
   "outputs": [],
   "source": []
  }
 ],
 "metadata": {
  "kernelspec": {
   "display_name": "Python [conda env:base] *",
   "language": "python",
   "name": "conda-base-py"
  },
  "language_info": {
   "codemirror_mode": {
    "name": "ipython",
    "version": 3
   },
   "file_extension": ".py",
   "mimetype": "text/x-python",
   "name": "python",
   "nbconvert_exporter": "python",
   "pygments_lexer": "ipython3",
   "version": "3.12.7"
  }
 },
 "nbformat": 4,
 "nbformat_minor": 5
}
